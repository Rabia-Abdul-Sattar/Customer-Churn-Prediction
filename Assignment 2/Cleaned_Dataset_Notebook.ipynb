{
  "nbformat": 4,
  "nbformat_minor": 0,
  "metadata": {
    "colab": {
      "provenance": []
    },
    "kernelspec": {
      "name": "python3",
      "display_name": "Python 3"
    },
    "language_info": {
      "name": "python"
    }
  },
  "cells": [
    {
      "cell_type": "code",
      "execution_count": 2,
      "metadata": {
        "colab": {
          "base_uri": "https://localhost:8080/"
        },
        "id": "GxHD8dcazGWV",
        "outputId": "e907e843-92e7-4b9b-ecdc-96d13a5c55b9"
      },
      "outputs": [
        {
          "output_type": "stream",
          "name": "stdout",
          "text": [
            "BEFORE: (891, 12) | total missing: 866 | duplicates: 0\n",
            "Age         177\n",
            "Cabin       687\n",
            "Embarked      2\n",
            "dtype: int64\n",
            "\n",
            "AFTER: (891, 12) | total missing: 0 | duplicates: 0\n"
          ]
        },
        {
          "output_type": "stream",
          "name": "stderr",
          "text": [
            "/tmp/ipython-input-4048613586.py:34: FutureWarning: A value is trying to be set on a copy of a DataFrame or Series through chained assignment using an inplace method.\n",
            "The behavior will change in pandas 3.0. This inplace method will never work because the intermediate object on which we are setting values always behaves as a copy.\n",
            "\n",
            "For example, when doing 'df[col].method(value, inplace=True)', try using 'df.method({col: value}, inplace=True)' or df[col] = df[col].method(value) instead, to perform the operation inplace on the original object.\n",
            "\n",
            "\n",
            "  if df_clean[c].isnull().any(): df_clean[c].fillna(df_clean[c].mean(), inplace=True)\n",
            "/tmp/ipython-input-4048613586.py:37: FutureWarning: A value is trying to be set on a copy of a DataFrame or Series through chained assignment using an inplace method.\n",
            "The behavior will change in pandas 3.0. This inplace method will never work because the intermediate object on which we are setting values always behaves as a copy.\n",
            "\n",
            "For example, when doing 'df[col].method(value, inplace=True)', try using 'df.method({col: value}, inplace=True)' or df[col] = df[col].method(value) instead, to perform the operation inplace on the original object.\n",
            "\n",
            "\n",
            "  try: df_clean[c].fillna(df_clean[c].mode(dropna=True)[0], inplace=True)\n"
          ]
        }
      ],
      "source": [
        "#  cleaning + before vs after + save cleaned CSV + txt report\n",
        "\n",
        "from google.colab import files\n",
        "import pandas as pd, numpy as np\n",
        "from datetime import datetime\n",
        "import os\n",
        "\n",
        "# 1) Load dataset (tries common path)\n",
        "path_candidates = ['/content/train.csv', '/mnt/data/train.csv']\n",
        "for p in path_candidates:\n",
        "    if os.path.exists(p):\n",
        "        df = pd.read_csv(p); src = p; break\n",
        "else:\n",
        "    uploaded = files.upload()\n",
        "    fn = list(uploaded.keys())[0]\n",
        "    df = pd.read_csv(fn); src = fn\n",
        "\n",
        "# 2) Before summary\n",
        "before_shape = df.shape\n",
        "before_missing = df.isnull().sum()\n",
        "before_total_missing = int(before_missing.sum())\n",
        "before_dups = int(df.duplicated().sum())\n",
        "\n",
        "print(\"BEFORE:\", before_shape, \"| total missing:\", before_total_missing, \"| duplicates:\", before_dups)\n",
        "print(before_missing[before_missing>0])\n",
        "\n",
        "# 3) Cleaning (compact)\n",
        "df_clean = df.drop_duplicates().copy()\n",
        "num_cols = df_clean.select_dtypes(include=[np.number]).columns\n",
        "cat_cols = df_clean.select_dtypes(include=['object','category']).columns\n",
        "\n",
        "# numeric -> mean, categorical -> mode, strip whitespace\n",
        "for c in num_cols:\n",
        "    if df_clean[c].isnull().any(): df_clean[c].fillna(df_clean[c].mean(), inplace=True)\n",
        "for c in cat_cols:\n",
        "    if df_clean[c].isnull().any():\n",
        "        try: df_clean[c].fillna(df_clean[c].mode(dropna=True)[0], inplace=True)\n",
        "        except: df_clean[c].fillna(\"Unknown\", inplace=True)\n",
        "    df_clean[c] = df_clean[c].apply(lambda x: x.strip() if isinstance(x, str) else x)\n",
        "\n",
        "# 4) After summary\n",
        "after_shape = df_clean.shape\n",
        "after_total_missing = int(df_clean.isnull().sum().sum())\n",
        "after_dups = int(df_clean.duplicated().sum())\n",
        "\n",
        "print(\"\\nAFTER:\", after_shape, \"| total missing:\", after_total_missing, \"| duplicates:\", after_dups)\n",
        "\n",
        "# 5) Save cleaned CSV and short text report\n",
        "cleaned_fn = \"cleaned_train.csv\"\n",
        "report_fn = \"cleaning_report.txt\"\n",
        "df_clean.to_csv(cleaned_fn, index=False)\n",
        "\n",
        "report_lines = [\n",
        "    \"Data Cleaning Report - Customer Churn\",\n",
        "    f\"Source file: {src}\",\n",
        "    f\"Generated: {datetime.now().strftime('%Y-%m-%d %H:%M:%S')}\",\n",
        "    \"\",\n",
        "    f\"BEFORE: rows,cols = {before_shape}; total missing = {before_total_missing}; duplicates = {before_dups}\",\n",
        "]\n",
        "report_lines += [\"Missing per column (before):\"] + [f\"  {k}: {v}\" for k,v in before_missing.items() if v>0]\n",
        "report_lines += [\n",
        "    \"\",\n",
        "    f\"AFTER: rows,cols = {after_shape}; total missing = {after_total_missing}; duplicates = {after_dups}\",\n",
        "    \"\",\n",
        "    \"Cleaning steps: dropped duplicates, numeric->mean imputation, categorical->mode imputation, stripped whitespace.\",\n",
        "    \"\",\n",
        "    \"Notes: consider advanced imputation (median/KNN) and encoding before modeling.\"\n",
        "]\n",
        "with open(report_fn,\"w\",encoding=\"utf-8\") as f:\n",
        "    f.write(\"\\n\".join(report_lines))\n",
        "\n",
        "# 6) Download files\n",
        "print(f\"\\nSaved: {cleaned_fn}, {report_fn}\\nStarting downloads...\")\n",
        "files.download(cleaned_fn)\n",
        "files.download(report_fn)\n"
      ]
    }
  ]
}